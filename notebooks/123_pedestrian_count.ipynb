{
 "cells": [
  {
   "cell_type": "code",
   "execution_count": 1,
   "metadata": {
    "tags": [
     "parameters"
    ]
   },
   "outputs": [],
   "source": [
    "load_from_config = True\n",
    "raw_data_folder = \"\"\n",
    "preprocessed_data_folder = \"\""
   ]
  },
  {
   "cell_type": "code",
   "execution_count": 2,
   "metadata": {},
   "outputs": [],
   "source": [
    "import yaml\n",
    "import pandas as pd"
   ]
  },
  {
   "cell_type": "code",
   "execution_count": 3,
   "metadata": {},
   "outputs": [],
   "source": [
    "with open('../config.yaml') as file:\n",
    "  params= yaml.safe_load(file)\n",
    "\n",
    "# in case of a automatic run\n",
    "if not load_from_config:\n",
    "    params['raw_data_folder'] = raw_data_folder\n",
    "    params['preprocessed_data_folder'] = preprocessed_data_folder\n",
    "\n",
    "preprocessed_data_folder = params['data_folder'] + params['preprocessed_data_folder']"
   ]
  },
  {
   "cell_type": "code",
   "execution_count": 4,
   "metadata": {},
   "outputs": [],
   "source": [
    "df_tracks = pd.read_pickle(preprocessed_data_folder + 'pp_merged.pkl')\n",
    "df_orientations = pd.read_pickle(preprocessed_data_folder + 'pp_orientations.pkl')"
   ]
  },
  {
   "cell_type": "markdown",
   "metadata": {},
   "source": [
    "## Count pedestrians in scenario"
   ]
  },
  {
   "cell_type": "code",
   "execution_count": 5,
   "metadata": {},
   "outputs": [],
   "source": [
    "for index, row in df_orientations.iterrows():\n",
    "    start_time = row[\"timestamp_begin\"]\n",
    "    end_time = row[\"timestamp_end\"]\n",
    "\n",
    "    aux=df_orientations[(df_orientations[\"timestamp_begin\"] >= start_time) & \n",
    "                        (df_orientations[\"timestamp_end\"] <= end_time)]\n",
    "\n",
    "    df_orientations.at[index, \"pedestrian_count\"] = aux.shape[0]"
   ]
  },
  {
   "cell_type": "code",
   "execution_count": 6,
   "metadata": {},
   "outputs": [
    {
     "data": {
      "text/plain": [
       "<Axes: ylabel='Frequency'>"
      ]
     },
     "execution_count": 6,
     "metadata": {},
     "output_type": "execute_result"
    },
    {
     "data": {
      "image/png": "[encoded data removed]",
      "text/plain": [
       "<Figure size 640x480 with 1 Axes>"
      ]
     },
     "metadata": {},
     "output_type": "display_data"
    }
   ],
   "source": [
    "df_orientations.pedestrian_count.plot.hist(bins=100, alpha=0.5)"
   ]
  },
  {
   "cell_type": "code",
   "execution_count": 7,
   "metadata": {},
   "outputs": [],
   "source": [
    "pd.to_pickle(df_orientations, preprocessed_data_folder + params['preprocessed_file_labels']+ \"orientations.pkl\")"
   ]
  },
  {
   "cell_type": "code",
   "execution_count": null,
   "metadata": {},
   "outputs": [],
   "source": []
  }
 ],
 "metadata": {
  "kernelspec": {
   "display_name": "geo",
   "language": "python",
   "name": "python3"
  },
  "language_info": {
   "codemirror_mode": {
    "name": "ipython",
    "version": 3
   },
   "file_extension": ".py",
   "mimetype": "text/x-python",
   "name": "python",
   "nbconvert_exporter": "python",
   "pygments_lexer": "ipython3",
   "version": "3.10.12"
  }
 },
 "nbformat": 4,
 "nbformat_minor": 2
}
