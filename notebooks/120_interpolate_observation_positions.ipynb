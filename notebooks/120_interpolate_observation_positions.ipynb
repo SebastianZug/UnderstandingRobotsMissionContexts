{
 "cells": [
  {
   "cell_type": "markdown",
   "metadata": {},
   "source": [
    "# 120 Interpolating observation positions / merge"
   ]
  },
  {
   "cell_type": "code",
   "execution_count": null,
   "metadata": {
    "tags": [
     "parameters"
    ]
   },
   "outputs": [],
   "source": [
    "load_from_config = True\n",
    "raw_data_folder = \"\"\n",
    "preprocessed_data_folder = \"\""
   ]
  },
  {
   "cell_type": "code",
   "execution_count": null,
   "metadata": {},
   "outputs": [],
   "source": [
    "%matplotlib widget "
   ]
  },
  {
   "cell_type": "code",
   "execution_count": null,
   "metadata": {},
   "outputs": [],
   "source": [
    "import pandas as pd\n",
    "import numpy as np\n",
    "import matplotlib.pyplot as plt \n",
    "import yaml"
   ]
  },
  {
   "cell_type": "code",
   "execution_count": null,
   "metadata": {},
   "outputs": [],
   "source": [
    "with open('../config.yaml') as file:\n",
    "  params= yaml.safe_load(file)\n",
    "\n",
    "# in case of a automatic run\n",
    "if not load_from_config:\n",
    "    params['raw_data_folder'] = raw_data_folder\n",
    "    params['preprocessed_data_folder'] = preprocessed_data_folder\n",
    "\n",
    "preprocessed_data_folder = params['data_folder'] + params['preprocessed_data_folder']\n"
   ]
  },
  {
   "cell_type": "code",
   "execution_count": null,
   "metadata": {},
   "outputs": [],
   "source": [
    "df_humans = pd.read_pickle(preprocessed_data_folder + 'pp_humans.pkl')\n",
    "df_humans['timestamp_gnss'] = pd.to_datetime(df_humans['gnss.timestamp'], unit='ns')\n",
    "print(f\"{df_humans.shape[0]} entries in the human dataset\")\n",
    "print(f\"{df_humans.timestamp_gnss.min()} - {df_humans.timestamp_gnss.max()}\")"
   ]
  },
  {
   "cell_type": "code",
   "execution_count": null,
   "metadata": {},
   "outputs": [],
   "source": [
    "df_robot = pd.read_pickle(preprocessed_data_folder + \"pp_robot.pkl\")\n",
    "print(f\"{df_robot.shape[0]} entries in the robot dataset\")\n",
    "print(f\"{df_robot.timestamp.min()} - {df_robot.timestamp.max()}\")"
   ]
  },
  {
   "cell_type": "code",
   "execution_count": null,
   "metadata": {},
   "outputs": [],
   "source": [
    "df_robot.head(3).T"
   ]
  },
  {
   "cell_type": "markdown",
   "metadata": {},
   "source": [
    "## Approximate the robot's position according to human's timestamp"
   ]
  },
  {
   "cell_type": "code",
   "execution_count": null,
   "metadata": {},
   "outputs": [],
   "source": [
    "def find_neighbored_positions(timestamp, df):\n",
    "    timestamp_column = 'timestamp'\n",
    "    dist = (df[timestamp_column] - timestamp).dt.total_seconds()\n",
    "    positive_dist = dist[dist > 0]\n",
    "    negative_dist = dist[dist < 0]\n",
    "    if positive_dist.empty and ~negative_dist.empty:\n",
    "        before = df.loc[negative_dist.idxmax(), timestamp_column]\n",
    "        after = None\n",
    "    elif ~positive_dist.empty and negative_dist.empty:\n",
    "        before = None\n",
    "        after = df.loc[positive_dist.idxmin(), timestamp_column]\n",
    "    else:\n",
    "        before = df.loc[negative_dist.idxmax(), timestamp_column]\n",
    "        after = df.loc[positive_dist.idxmin(), timestamp_column]\n",
    "    return before, after\n",
    "\n",
    "print(df_humans.iloc[0]['obj.timestamp'])\n",
    "find_neighbored_positions(df_humans.iloc[0]['obj.timestamp'], df_robot)"
   ]
  },
  {
   "cell_type": "code",
   "execution_count": null,
   "metadata": {},
   "outputs": [],
   "source": [
    "for index, row in df_humans.iterrows():\n",
    "    before, after = find_neighbored_positions(row['obj.timestamp'], df_robot)\n",
    "    df_humans.at[index, 'robot_before'] = before\n",
    "    df_humans.at[index, 'robot_after'] = after\n",
    "    if before is not None and after is not None and (after - before) < pd.Timedelta('2s'):\n",
    "        df_humans.at[index, 'valid_interpolation'] = True\n",
    "    else:\n",
    "        df_humans.at[index, 'valid_interpolation'] = False\n",
    "\n",
    "#df_humans['valid_interpolation'] = (df_humans['robot_before'] - df_humans['robot_after']) < pd.Timedelta('1s')\n"
   ]
  },
  {
   "cell_type": "code",
   "execution_count": null,
   "metadata": {},
   "outputs": [],
   "source": [
    "df_humans[['obj.timestamp', 'robot_before', 'robot_after', 'valid_interpolation']].tail(5)"
   ]
  },
  {
   "cell_type": "code",
   "execution_count": null,
   "metadata": {},
   "outputs": [],
   "source": [
    "df_humans.valid_interpolation.value_counts()"
   ]
  },
  {
   "cell_type": "code",
   "execution_count": null,
   "metadata": {},
   "outputs": [],
   "source": [
    "df_robot.loc[df_robot['timestamp'] == df_humans.iloc[0]['robot_before']]"
   ]
  },
  {
   "cell_type": "code",
   "execution_count": null,
   "metadata": {},
   "outputs": [],
   "source": [
    "for index, row in df_humans.iterrows():\n",
    "    if row['valid_interpolation']:\n",
    "        \n",
    "        before = df_robot[df_robot['timestamp'] == row['robot_before']].iloc[0]\n",
    "        after = df_robot[df_robot['timestamp'] == row['robot_after']].iloc[0]\n",
    "        ratio_time_diff = (row['obj.timestamp'] - row['robot_before']) / (row['robot_after'] - row['robot_before'])\n",
    "\n",
    "        df_humans.at[index, 'robot_latitude'] = ratio_time_diff*(after.latitude - before.latitude) + before.latitude\n",
    "        df_humans.at[index, 'robot_longitude'] = ratio_time_diff*(after.longitude - before.longitude) + before.longitude\n",
    "        diff_bearing = after.bearing - before.bearing\n",
    "        if diff_bearing > np.pi:\n",
    "            diff_bearing = diff_bearing - 2* np.pi\n",
    "        if diff_bearing < -np.pi:\n",
    "            diff_bearing = diff_bearing + 2* np.pi\n",
    "        df_humans.at[index, 'bearing'] = ratio_time_diff*diff_bearing + before.bearing\n",
    "        \n",
    "        # for testing purposes\n",
    "        df_humans.at[index, 'robot_latitude_before'] = before.latitude\n",
    "        df_humans.at[index, 'robot_longitude_before'] = before.longitude\n",
    "        df_humans.at[index, 'robot_latitude_after'] = after.latitude\n",
    "        df_humans.at[index, 'robot_longitude_after'] = after.longitude\n",
    "\n",
    "        # for evaluation of positional information\n",
    "        df_humans.at[index, 'pose_valid'] = before.pose_valid\n",
    "\n",
    "        df_humans.at[index, 'speed'] = ratio_time_diff*(after.speed - before.speed) + before.speed\n",
    "        df_humans.at[index, 'heading_diff'] = ratio_time_diff*(after.heading_diff - before.heading_diff) + before.heading_diff\n",
    "        df_humans.at[index, 'HDOP'] = ratio_time_diff*(after.HDOP - before.HDOP) + before.HDOP"
   ]
  },
  {
   "cell_type": "code",
   "execution_count": null,
   "metadata": {},
   "outputs": [],
   "source": [
    "fig, ax = plt.subplots(figsize=(10,10))\n",
    "df_humans.plot.scatter(x='robot_longitude', y='robot_latitude', color='red', s=0.1, ax=ax)\n",
    "df_humans.plot.scatter(x='robot_longitude_before', y='robot_latitude_before', s=0.1, ax=ax)\n",
    "\n",
    "# Zoom into the map for checking the interpolation"
   ]
  },
  {
   "cell_type": "code",
   "execution_count": null,
   "metadata": {},
   "outputs": [],
   "source": [
    "preprocessed_data_folder = params['data_folder'] + params['preprocessed_data_folder']\n",
    "pd.to_pickle(df_humans, preprocessed_data_folder + params['preprocessed_file_labels']+ \"merged.pkl\")"
   ]
  },
  {
   "cell_type": "code",
   "execution_count": null,
   "metadata": {},
   "outputs": [],
   "source": []
  }
 ],
 "metadata": {
  "kernelspec": {
   "display_name": "visualize_tracking_data-9SWVvaUy",
   "language": "python",
   "name": "python3"
  },
  "language_info": {
   "codemirror_mode": {
    "name": "ipython",
    "version": 3
   },
   "file_extension": ".py",
   "mimetype": "text/x-python",
   "name": "python",
   "nbconvert_exporter": "python",
   "pygments_lexer": "ipython3",
   "version": "3.10.12"
  }
 },
 "nbformat": 4,
 "nbformat_minor": 2
}
