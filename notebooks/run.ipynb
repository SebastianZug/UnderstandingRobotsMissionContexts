{
 "cells": [
  {
   "cell_type": "code",
   "execution_count": 1,
   "metadata": {},
   "outputs": [],
   "source": [
    "import papermill as pm\n",
    "from pathlib import Path\n",
    "import os\n",
    "from collections import OrderedDict"
   ]
  },
  {
   "cell_type": "code",
   "execution_count": 2,
   "metadata": {},
   "outputs": [],
   "source": [
    "complete = True"
   ]
  },
  {
   "cell_type": "code",
   "execution_count": 3,
   "metadata": {},
   "outputs": [],
   "source": [
    "if complete:\n",
    "\n",
    "    notebook_files = OrderedDict([\n",
    "        ('100_pedestrians_coord_transform.ipynb', \n",
    "            'Transforming pedestrian coordinates'),\n",
    "        ('101_pedestrians_feature_extract.ipynb',\n",
    "            'Evaluate tracking states and confidence scores'),\n",
    "        ('102_pedestrians_uncertainty.ipynb',\n",
    "            'Evaluate the uncertainty of object postions measured by ZED camera'),\n",
    "        ('103_generate_colors.ipynb',\n",
    "            'Define an individual color for each pedestrian'),\n",
    "        ('110_gnss_feature_extraction.ipynb',\n",
    "            'Integrate Uncertainty information'),\n",
    "        ('120_interpolate_observation_positions.ipynb',\n",
    "            \"Calculate robot's observation poses\"),\n",
    "        ('121_generate_features.ipynb',\n",
    "            \"Generate orientation information for robot and pedestrians\"),\n",
    "        ('122_identify_junctions.ipynb',\n",
    "            \"Determine junctions in the environment\"),\n",
    "        ('123_pedestrian_count.ipynb',\n",
    "            \"Count pedestrians in the environment\"),\n",
    "    ]\n",
    "    )\n",
    "else:\n",
    "    notebook_files = OrderedDict([\n",
    "        ('123_pedestrian_count.ipynb',\n",
    "            \"Count pedestrians in the environment\"),\n",
    "   ]\n",
    ")"
   ]
  },
  {
   "cell_type": "code",
   "execution_count": 4,
   "metadata": {},
   "outputs": [],
   "source": [
    "notebook_folder = Path.cwd()\n",
    "output_folder = notebook_folder / Path(\"tmp\")\n",
    "\n",
    "if not output_folder.exists():\n",
    "    os.makedirs(output_folder)"
   ]
  },
  {
   "cell_type": "code",
   "execution_count": 5,
   "metadata": {},
   "outputs": [
    {
     "name": "stdout",
     "output_type": "stream",
     "text": [
      "20230531\n",
      "-------------------------\n",
      "100_pedestrians_coord_transform.ipynb\n",
      "Transforming pedestrian coordinates\n"
     ]
    },
    {
     "data": {
      "application/vnd.jupyter.widget-view+json": {
       "model_id": "a3bad1352fc64a548e219f3833c26345",
       "version_major": 2,
       "version_minor": 0
      },
      "text/plain": [
       "Executing:   0%|          | 0/39 [00:00<?, ?cell/s]"
      ]
     },
     "metadata": {},
     "output_type": "display_data"
    },
    {
     "name": "stdout",
     "output_type": "stream",
     "text": [
      "101_pedestrians_feature_extract.ipynb\n",
      "Evaluate tracking states and confidence scores\n"
     ]
    },
    {
     "data": {
      "application/vnd.jupyter.widget-view+json": {
       "model_id": "0df3110b45bb4a4786d63f7c2a4bc2ad",
       "version_major": 2,
       "version_minor": 0
      },
      "text/plain": [
       "Executing:   0%|          | 0/16 [00:00<?, ?cell/s]"
      ]
     },
     "metadata": {},
     "output_type": "display_data"
    },
    {
     "name": "stdout",
     "output_type": "stream",
     "text": [
      "102_pedestrians_uncertainty.ipynb\n",
      "Evaluate the uncertainty of object postions measured by ZED camera\n"
     ]
    },
    {
     "data": {
      "application/vnd.jupyter.widget-view+json": {
       "model_id": "e57e970437944466b4d20b8ac12d21c3",
       "version_major": 2,
       "version_minor": 0
      },
      "text/plain": [
       "Executing:   0%|          | 0/18 [00:00<?, ?cell/s]"
      ]
     },
     "metadata": {},
     "output_type": "display_data"
    },
    {
     "name": "stdout",
     "output_type": "stream",
     "text": [
      "103_generate_colors.ipynb\n",
      "Define an individual color for each pedestrian\n"
     ]
    },
    {
     "data": {
      "application/vnd.jupyter.widget-view+json": {
       "model_id": "a0f798ccd5484d058e14ddda09289411",
       "version_major": 2,
       "version_minor": 0
      },
      "text/plain": [
       "Executing:   0%|          | 0/11 [00:00<?, ?cell/s]"
      ]
     },
     "metadata": {},
     "output_type": "display_data"
    },
    {
     "name": "stdout",
     "output_type": "stream",
     "text": [
      "110_gnss_feature_extraction.ipynb\n",
      "Integrate Uncertainty information\n"
     ]
    },
    {
     "data": {
      "application/vnd.jupyter.widget-view+json": {
       "model_id": "7c5d98cbc01d464dbd96a79e9833a1c3",
       "version_major": 2,
       "version_minor": 0
      },
      "text/plain": [
       "Executing:   0%|          | 0/24 [00:00<?, ?cell/s]"
      ]
     },
     "metadata": {},
     "output_type": "display_data"
    },
    {
     "name": "stdout",
     "output_type": "stream",
     "text": [
      "120_interpolate_observation_positions.ipynb\n",
      "Calculate robot's observation poses\n"
     ]
    },
    {
     "data": {
      "application/vnd.jupyter.widget-view+json": {
       "model_id": "c1abcb96429040e39c84b0f55ea745e6",
       "version_major": 2,
       "version_minor": 0
      },
      "text/plain": [
       "Executing:   0%|          | 0/19 [00:00<?, ?cell/s]"
      ]
     },
     "metadata": {},
     "output_type": "display_data"
    },
    {
     "name": "stdout",
     "output_type": "stream",
     "text": [
      "121_generate_features.ipynb\n",
      "Generate orientation information for robot and pedestrians\n"
     ]
    },
    {
     "data": {
      "application/vnd.jupyter.widget-view+json": {
       "model_id": "70ebd7f946e6490e9d239e464d55361e",
       "version_major": 2,
       "version_minor": 0
      },
      "text/plain": [
       "Executing:   0%|          | 0/17 [00:00<?, ?cell/s]"
      ]
     },
     "metadata": {},
     "output_type": "display_data"
    },
    {
     "name": "stdout",
     "output_type": "stream",
     "text": [
      "122_identify_junctions.ipynb\n",
      "Determine junctions in the environment\n"
     ]
    },
    {
     "data": {
      "application/vnd.jupyter.widget-view+json": {
       "model_id": "444e98721458476796f296657aba804b",
       "version_major": 2,
       "version_minor": 0
      },
      "text/plain": [
       "Executing:   0%|          | 0/28 [00:00<?, ?cell/s]"
      ]
     },
     "metadata": {},
     "output_type": "display_data"
    },
    {
     "name": "stdout",
     "output_type": "stream",
     "text": [
      "123_pedestrian_count.ipynb\n",
      "Count pedestrians in the environment\n"
     ]
    },
    {
     "data": {
      "application/vnd.jupyter.widget-view+json": {
       "model_id": "2290491ec5e24f2280e45154a7d2971b",
       "version_major": 2,
       "version_minor": 0
      },
      "text/plain": [
       "Executing:   0%|          | 0/10 [00:00<?, ?cell/s]"
      ]
     },
     "metadata": {},
     "output_type": "display_data"
    }
   ],
   "source": [
    "records = [\"20230524\", \"20231210\", \"20231206\", \"20230628\" ]\n",
    "\n",
    "for day in records: \n",
    "   print(day)\n",
    "   print(\"-------------------------\")\n",
    "   parameters= dict(load_from_config = False,\n",
    "                  raw_data_folder = \"raw/\"+day+\"/\",\n",
    "                  preprocessed_data_folder = \"preprocessed/\"+day+\"/\")\n",
    "\n",
    "   for notebook_file in notebook_files:\n",
    "      print(notebook_file)\n",
    "      print(notebook_files[notebook_file])\n",
    "      input = notebook_folder / Path(notebook_file)\n",
    "      output = output_folder / Path(notebook_file.replace(\".ipynb\", \"_run.ipynb\"))\n",
    "      pm.execute_notebook(\n",
    "         input,\n",
    "         output,\n",
    "         parameters=parameters,\n",
    "         progress_bar=True\n",
    "      )"
   ]
  },
  {
   "cell_type": "code",
   "execution_count": null,
   "metadata": {},
   "outputs": [],
   "source": []
  }
 ],
 "metadata": {
  "kernelspec": {
   "display_name": "visualize_tracking_data-9SWVvaUy",
   "language": "python",
   "name": "python3"
  },
  "language_info": {
   "codemirror_mode": {
    "name": "ipython",
    "version": 3
   },
   "file_extension": ".py",
   "mimetype": "text/x-python",
   "name": "python",
   "nbconvert_exporter": "python",
   "pygments_lexer": "ipython3",
   "version": "3.10.12"
  }
 },
 "nbformat": 4,
 "nbformat_minor": 2
}
