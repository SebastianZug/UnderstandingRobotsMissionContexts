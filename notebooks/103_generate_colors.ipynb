{
 "cells": [
  {
   "cell_type": "markdown",
   "metadata": {},
   "source": [
    "# 103 Generate color palette for each track"
   ]
  },
  {
   "cell_type": "code",
   "execution_count": 1,
   "metadata": {
    "tags": [
     "parameters"
    ]
   },
   "outputs": [],
   "source": [
    "load_from_config = True\n",
    "raw_data_folder = \"\"\n",
    "preprocessed_data_folder = \"\""
   ]
  },
  {
   "cell_type": "code",
   "execution_count": 2,
   "metadata": {},
   "outputs": [],
   "source": [
    "import pandas as pd\n",
    "import numpy as np\n",
    "import matplotlib.pyplot as plt \n",
    "import math\n",
    "import yaml\n",
    "import random"
   ]
  },
  {
   "cell_type": "code",
   "execution_count": 3,
   "metadata": {},
   "outputs": [],
   "source": [
    "with open('../config.yaml') as file:\n",
    "  params= yaml.safe_load(file)"
   ]
  },
  {
   "cell_type": "code",
   "execution_count": 4,
   "metadata": {},
   "outputs": [],
   "source": [
    "# in case of a automatic run\n",
    "if not load_from_config:\n",
    "    params['raw_data_folder'] = raw_data_folder\n",
    "    params['preprocessed_data_folder'] = preprocessed_data_folder"
   ]
  },
  {
   "cell_type": "code",
   "execution_count": 5,
   "metadata": {},
   "outputs": [],
   "source": [
    "preprocessed_data_folder = params['data_folder'] + params['preprocessed_data_folder']\n",
    "df_humans = pd.read_pickle(preprocessed_data_folder + 'pp_humans.pkl')"
   ]
  },
  {
   "cell_type": "code",
   "execution_count": 6,
   "metadata": {},
   "outputs": [],
   "source": [
    "def pedestrian_uid_to_color(uid, colormap='prism', n_colors=100):\n",
    "    # Get the colormap from matplotlib\n",
    "    cmap = plt.get_cmap(colormap, n_colors)\n",
    "\n",
    "    # Use modulo to ensure uid falls within the range of available colors\n",
    "    color_index = uid % n_colors\n",
    "\n",
    "    # Get the color from the colormap\n",
    "    color = cmap(color_index)\n",
    "\n",
    "    # Convert the color to RGB, discarding the alpha channel if it exists\n",
    "    return color[:3]\n",
    "\n",
    "df_humans['color'] = df_humans['obj.label_id_unique'].apply(pedestrian_uid_to_color)"
   ]
  },
  {
   "cell_type": "code",
   "execution_count": 7,
   "metadata": {},
   "outputs": [],
   "source": [
    "pd.to_pickle(df_humans, preprocessed_data_folder + params['preprocessed_file_labels']+ \"humans.pkl\")"
   ]
  },
  {
   "cell_type": "code",
   "execution_count": 17,
   "metadata": {},
   "outputs": [
    {
     "data": {
      "text/plain": [
       "obj.frame\n",
       "front    348\n",
       "left     430\n",
       "rear       4\n",
       "Name: obj.label_id_unique, dtype: int64"
      ]
     },
     "execution_count": 17,
     "metadata": {},
     "output_type": "execute_result"
    }
   ],
   "source": [
    "df_humans.groupby(['obj.frame'])['obj.label_id_unique'].nunique()"
   ]
  },
  {
   "cell_type": "code",
   "execution_count": null,
   "metadata": {},
   "outputs": [],
   "source": []
  }
 ],
 "metadata": {
  "kernelspec": {
   "display_name": "visualize_tracking_data-9SWVvaUy",
   "language": "python",
   "name": "python3"
  },
  "language_info": {
   "codemirror_mode": {
    "name": "ipython",
    "version": 3
   },
   "file_extension": ".py",
   "mimetype": "text/x-python",
   "name": "python",
   "nbconvert_exporter": "python",
   "pygments_lexer": "ipython3",
   "version": "3.10.12"
  }
 },
 "nbformat": 4,
 "nbformat_minor": 2
}
